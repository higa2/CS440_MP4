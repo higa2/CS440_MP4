{
 "cells": [
  {
   "cell_type": "code",
   "execution_count": 57,
   "metadata": {
    "collapsed": true
   },
   "outputs": [],
   "source": [
    "%matplotlib inline\n",
    "import numpy as np\n",
    "import matplotlib.pyplot as plt"
   ]
  },
  {
   "cell_type": "code",
   "execution_count": 1,
   "metadata": {
    "collapsed": false
   },
   "outputs": [],
   "source": [
    "class state:\n",
    "    '''\n",
    "    Policy\n",
    "    These are what the policy numbers stand for:\n",
    "        3\n",
    "       1 2\n",
    "        0\n",
    "        \n",
    "    '''\n",
    "    def __init__(self):\n",
    "        self.utility = 0\n",
    "        self.policy = None\n",
    "        self.reward = None\n",
    "        \n",
    "    def setReward(self, reward):\n",
    "        self.reward = reward\n",
    "        \n",
    "    def getReward(self):\n",
    "        return self.reward\n",
    "    \n",
    "    def getUtility(self):\n",
    "        return self.utility\n",
    "    \n",
    "    def getPolicy(self):\n",
    "        return self.policy\n",
    "\n",
    "class grid:\n",
    "    def __init__(self, width, height):\n",
    "        self.height = height\n",
    "        self.width = width\n",
    "        self.size = self.width*self.height\n",
    "        self.grid = [state() for i in range(self.size)] \n",
    "     \n",
    "    #Enter rewards as an array interpretted as rewards[x*width + height]\n",
    "    def setGridRewards(self, rewards):\n",
    "        for i in range(len(rewards)):\n",
    "            self.grid[i].setReward(rewards[i])\n",
    "            self.grid[i].utility = rewards[i]\n",
    "            \n",
    "    def printGridRewards(self):\n",
    "        for i in reversed(range(self.height)):\n",
    "            for j in range(self.width):\n",
    "                if self.grid[i*self.width+j].reward == None:\n",
    "                    print \"\\t X\",\n",
    "                else:\n",
    "                    print \"\\t\", self.grid[i*self.width+j].reward,\n",
    "            print\n",
    "            \n",
    "    def getUtilities(self):\n",
    "        utilities = []\n",
    "        for i in reversed(range(self.height)):\n",
    "            for j in range(self.width):\n",
    "                if self.grid[i*self.width+j].utility == None:\n",
    "                    utilities.append(0)\n",
    "                else:\n",
    "                    utilities.append(self.grid[i*self.width+j].utility)\n",
    "        return utilities                    \n",
    "            \n",
    "    def printGridUtility(self):\n",
    "        for i in reversed(range(self.height)):\n",
    "            for j in range(self.width):\n",
    "                if self.grid[i*self.width+j].utility == None:\n",
    "                    print \"\\t X\",\n",
    "                else:\n",
    "                    print \"\\t\", round(self.grid[i*self.width+j].utility,3),\n",
    "            print\n",
    "            \n",
    "    def printGridPolicy(self):\n",
    "        moves = ['D ', 'L ', 'R ', 'U ']\n",
    "        for i in reversed(range(self.height)):\n",
    "            for j in range(self.width):\n",
    "                if self.grid[i*self.width+j].policy == None:\n",
    "                    if self.grid[i*self.width+j].reward > 0:\n",
    "                        print str(self.grid[i*self.width+j].reward) + ' ',\n",
    "                    elif self.grid[i*self.width+j].reward == None:\n",
    "                        print 'X ',\n",
    "                    else:\n",
    "                        print str(self.grid[i*self.width+j].reward),\n",
    "                else:\n",
    "                    print moves[self.grid[i*self.width+j].policy],\n",
    "            print\n",
    "    \n",
    "    def valueIteration(self, gamma, empty, numIterations = 50, terminal = True):\n",
    "        for i in range(numIterations):\n",
    "            for j in range(self.size):\n",
    "                expectedUtility = []\n",
    "                \n",
    "                #set expected utilities. If terminal states are turned off then allow terminal state utilities to be updated.\n",
    "                if self.grid[j].reward == empty or (self.grid[j].reward != None and terminal == False):\n",
    "                    \n",
    "                    # find utility of neighbors\n",
    "                    if j >= self.width:\n",
    "                        bottomUtility = self.grid[j-self.width].utility\n",
    "                    else:\n",
    "                        bottomUtility = self.grid[j].utility\n",
    "                    \n",
    "                    if j%6 != 0:\n",
    "                        leftUtility = self.grid[j-1].utility\n",
    "                    else:\n",
    "                        leftUtility = self.grid[j].utility\n",
    "                        \n",
    "                    if j%6 != 5:\n",
    "                        rightUtility = self.grid[j+1].utility\n",
    "                    else:\n",
    "                        rightUtility = self.grid[j].utility\n",
    "                        \n",
    "                    if j < (self.height-1)*self.width:\n",
    "                        topUtility = self.grid[j+self.width].utility\n",
    "                    else:\n",
    "                        topUtility = self.grid[j].utility\n",
    "                    \n",
    "                    #if you hit a wall stay in the same state\n",
    "                    if bottomUtility == None:\n",
    "                        bottomUtility = self.grid[j].utility\n",
    "                    if leftUtility == None:\n",
    "                        leftUtility = self.grid[j].utility\n",
    "                    if rightUtility == None:\n",
    "                        rightUtility = self.grid[j].utility\n",
    "                    if topUtility == None:\n",
    "                        topUtility = self.grid[j].utility\n",
    "                        \n",
    "                    expectedUtility.append(0.8*bottomUtility+0.1*leftUtility+0.1*rightUtility)\n",
    "                    expectedUtility.append(0.8*leftUtility+0.1*topUtility+0.1*bottomUtility)\n",
    "                    expectedUtility.append(0.8*rightUtility+0.1*topUtility+0.1*bottomUtility)\n",
    "                    expectedUtility.append(0.8*topUtility+0.1*leftUtility+0.1*rightUtility)\n",
    "                    \n",
    "                    self.grid[j].policy = expectedUtility.index(max(expectedUtility))\n",
    "                    self.grid[j].utility = self.grid[j].reward+gamma*max(expectedUtility)"
   ]
  },
  {
   "cell_type": "code",
   "execution_count": 2,
   "metadata": {
    "collapsed": false
   },
   "outputs": [
    {
     "name": "stdout",
     "output_type": "stream",
     "text": [
      "\t-1.455 \t-1.0 \t-0.34 \t0.229 \t0.737 \t1.468\n",
      "\t-1.201 \t-1.307 \t-0.887 \t X \t-1.0 \t2.083\n",
      "\t-0.698 \t-1.067 \t-0.901 \t X \t2.058 \t3.0\n",
      "\t-0.155 \t-0.643 \t-0.387 \t X \t1.829 \t2.394\n",
      "\t0.409 \t-0.239 \t0.146 \t0.79 \t1.306 \t1.804\n",
      "\t1.0 \t-1.0 \t-0.426 \t X \t-1.0 \t-1.0\n",
      "R  -1 R  R  R  D \n",
      "D  R  U  X  -1 D \n",
      "D  D  D  X  R  3 \n",
      "D  D  D  X  R  U \n",
      "D  L  R  R  U  U \n",
      "1  -1 U  X  -1 -1\n"
     ]
    }
   ],
   "source": [
    "empty = -0.4\n",
    "newgrid = grid(6,6)\n",
    "newgrid.setGridRewards([1,-1, empty, None, -1, -1,\n",
    "                    empty, empty, empty, empty, empty, empty,\n",
    "                    empty, empty, empty, None, empty, empty,\n",
    "                    empty, empty, empty, None, empty, 3,\n",
    "                    empty, empty, empty, None, -1, empty,\n",
    "                    empty, -1, empty, empty, empty, empty,\n",
    "                   ])\n",
    "newgrid.valueIteration(0.99, -0.4)\n",
    "newgrid.printGridUtility()\n",
    "newgrid.printGridPolicy()"
   ]
  },
  {
   "cell_type": "code",
   "execution_count": 3,
   "metadata": {
    "collapsed": false
   },
   "outputs": [
    {
     "name": "stdout",
     "output_type": "stream",
     "text": [
      "\t81.65 \t85.122 \t89.429 \t93.164 \t96.67 \t99.846\n",
      "\t79.37 \t82.549 \t85.788 \t X \t98.168 \t102.191\n",
      "\t76.941 \t79.645 \t82.266 \t X \t100.536 \t104.673\n",
      "\t77.937 \t81.079 \t84.266 \t X \t97.369 \t100.794\n",
      "\t79.058 \t82.562 \t86.419 \t90.429 \t93.944 \t97.006\n",
      "\t77.639 \t79.029 \t82.723 \t X \t89.999 \t92.574\n",
      "R  R  R  R  R  D \n",
      "R  R  U  X  D  D \n",
      "R  R  U  X  R  R \n",
      "R  R  D  X  U  U \n",
      "R  R  R  R  U  U \n",
      "U  R  U  X  U  U \n"
     ]
    }
   ],
   "source": [
    "empty = -0.4\n",
    "newgrid = grid(6,6)\n",
    "newgrid.setGridRewards([1,-1, empty, None, -1, -1,\n",
    "                    empty, empty, empty, empty, empty, empty,\n",
    "                    empty, empty, empty, None, empty, empty,\n",
    "                    empty, empty, empty, None, empty, 3,\n",
    "                    empty, empty, empty, None, -1, empty,\n",
    "                    empty, -1, empty, empty, empty, empty,\n",
    "                   ])\n",
    "newgrid.valueIteration(0.99, -0.4, terminal = False)\n",
    "newgrid.printGridUtility()\n",
    "newgrid.printGridPolicy()"
   ]
  },
  {
   "cell_type": "code",
   "execution_count": null,
   "metadata": {
    "collapsed": true
   },
   "outputs": [],
   "source": []
  }
 ],
 "metadata": {
  "kernelspec": {
   "display_name": "Python 2",
   "language": "python",
   "name": "python2"
  },
  "language_info": {
   "codemirror_mode": {
    "name": "ipython",
    "version": 2
   },
   "file_extension": ".py",
   "mimetype": "text/x-python",
   "name": "python",
   "nbconvert_exporter": "python",
   "pygments_lexer": "ipython2",
   "version": "2.7.6"
  }
 },
 "nbformat": 4,
 "nbformat_minor": 0
}
