{
 "cells": [
  {
   "cell_type": "code",
   "execution_count": 1,
   "metadata": {
    "collapsed": false
   },
   "outputs": [],
   "source": [
    "%matplotlib inline\n",
    "import random\n",
    "from images import *\n",
    "from NumberClass import *\n",
    "from math import *\n",
    "from operator import itemgetter, attrgetter\n",
    "import numpy as np\n",
    "import matplotlib.pyplot as plt\n",
    "from numpy import ma\n",
    "from matplotlib import colors, ticker, cm\n",
    "from matplotlib.mlab import bivariate_normal"
   ]
  },
  {
   "cell_type": "code",
   "execution_count": 14,
   "metadata": {
    "collapsed": false
   },
   "outputs": [
    {
     "data": {
      "text/plain": [
       "'\\nfor t in range(21):\\n    correct = 0\\n    for i in range(5000):\\n        numberValue = int(images.getLabels(i))\\n        dotArray = []\\n        if numberClass[numberValue].getStatus() == 0:\\n            maxIndex = numberValue\\n            numberClass[numberValue].changeStatus()\\n        else:\\n            for index in range (10):\\n                dotArray.append(ma.dot(numberClass[index].getWeights(), numberClass[index].getFeature()))\\n            maxIndex = dotArray.index(max(dotArray))\\n    \\n        if maxIndex != numberValue:\\n            for row in range(28):\\n                for column in range(28): \\n                    numberClass[numberValue].updateWeightVector((float(5000)/(1000+2*t)),row,column)\\n                    numberClass[maxIndex].updateWeightVector(-(float(5000)/(1000+2*t)),row,column)\\n        else:\\n            correct += 1\\n    print correct\\nx.append(0)\\n'"
      ]
     },
     "execution_count": 14,
     "metadata": {},
     "output_type": "execute_result"
    },
    {
     "data": {
      "image/png": "[encoded data removed]",
      "text/plain": [
       "<matplotlib.figure.Figure at 0x9b44dd0>"
      ]
     },
     "metadata": {},
     "output_type": "display_data"
    }
   ],
   "source": [
    "def alpha(i):\n",
    "    return float(1000)/(1000+i)\n",
    "\n",
    "images = imageArray('trainingimages','traininglabels')\n",
    "numberClass = []\n",
    "labelArray = []\n",
    "x = []\n",
    "y = []\n",
    "maxIndex = 0\n",
    "\n",
    "for i in range(10) :\n",
    "    numberClass.append(NumberClass()) \n",
    "    labelArray.append(0)\n",
    "    \n",
    "'''Training'''\n",
    "trainingAccuracies = []\n",
    "numImages = 5000\n",
    "epoch = 100\n",
    "for t in range(epoch):\n",
    "    currentAccuracy = 0\n",
    "    for i in range(numImages):\n",
    "        numberValue = int(images.getLabels(i))\n",
    "        imageData = []\n",
    "        imageData = images.getImage(i)\n",
    "        featureVector = []\n",
    "        for row in range(28):\n",
    "            for column in range(28): \n",
    "                if imageData[row][column] == ' ':\n",
    "                    featureVector.append(0)\n",
    "                else:\n",
    "                    featureVector.append(1)\n",
    "        featureVector = np.array(featureVector, dtype = float)\n",
    "\n",
    "        #apply one-vs-all method\n",
    "        maxValue = -100 # practically -infinity\n",
    "        estimateClass = 0 \n",
    "        for index in range(10):\n",
    "            realClass = -1 \n",
    "            if index == numberValue:\n",
    "                realClass = 1\n",
    "            value = np.dot(featureVector, numberClass[index].weightVector)\n",
    "            classification = 0\n",
    "            if value < 0:\n",
    "                classification = -1\n",
    "            else:\n",
    "                classification = 1\n",
    "            numberClass[index].weightVector += alpha(t)*(realClass-classification)*featureVector\n",
    "            \n",
    "            if value > maxValue:\n",
    "                maxValue = value\n",
    "                estimateClass = index\n",
    "        \n",
    "        if estimateClass == numberValue:\n",
    "            currentAccuracy += 1\n",
    "    \n",
    "    trainingAccuracies.append(float(currentAccuracy)/5000)\n",
    "    \n",
    "plt.plot(range(epoch), trainingAccuracies)"
   ]
  },
  {
   "cell_type": "code",
   "execution_count": 22,
   "metadata": {
    "collapsed": false
   },
   "outputs": [
    {
     "name": "stdout",
     "output_type": "stream",
     "text": [
      "0.768\n",
      "[[82, 0, 2, 1, 0, 2, 1, 0, 2, 0], [0, 105, 0, 0, 1, 0, 1, 0, 1, 0], [5, 1, 78, 5, 4, 0, 5, 0, 4, 1], [4, 0, 2, 78, 0, 11, 0, 3, 1, 1], [4, 1, 3, 0, 82, 0, 3, 2, 5, 7], [7, 0, 1, 4, 0, 70, 1, 2, 4, 3], [5, 1, 2, 0, 2, 2, 79, 0, 0, 0], [6, 3, 4, 2, 3, 0, 0, 66, 4, 18], [23, 2, 7, 4, 4, 6, 1, 1, 49, 6], [4, 0, 1, 3, 7, 0, 0, 3, 3, 79]]\n"
     ]
    }
   ],
   "source": [
    "''' Testing '''\n",
    "images = imageArray('testimages','testlabels')\n",
    "numImages = 1000\n",
    "accuracy = 0\n",
    "confusionMatrix = [[0 for i in range(10)] for j in range(10)]\n",
    "for i in range(numImages):\n",
    "    numberValue = int(images.getLabels(i))\n",
    "    imageData = []\n",
    "    imageData = images.getImage(i)\n",
    "    featureVector = []\n",
    "    for row in range(28):\n",
    "        for column in range(28): \n",
    "            if imageData[row][column] == ' ':\n",
    "                featureVector.append(0)\n",
    "            else:\n",
    "                featureVector.append(1)\n",
    "    featureVector = np.array(featureVector, dtype = float)\n",
    "\n",
    "    #apply one-vs-all method\n",
    "    maxValue = -100 # practically -infinity\n",
    "    estimateClass = 0 \n",
    "    for index in range(10):\n",
    "        value = np.dot(featureVector, numberClass[index].weightVector)\n",
    "\n",
    "        if value > maxValue:\n",
    "            maxValue = value\n",
    "            estimateClass = index\n",
    "\n",
    "    if estimateClass == numberValue:\n",
    "        accuracy += 1\n",
    "        \n",
    "    confusionMatrix[numberValue][estimateClass] += 1\n",
    "        \n",
    "accuracy = float(accuracy) / numImages \n",
    "print accuracy\n",
    "print confusionMatrix"
   ]
  },
  {
   "cell_type": "code",
   "execution_count": 20,
   "metadata": {
    "collapsed": false
   },
   "outputs": [
    {
     "name": "stdout",
     "output_type": "stream",
     "text": [
      "[[1, 2, 3], [4, 5, 6], [7, 8, 9]]\n",
      "8\n"
     ]
    }
   ],
   "source": [
    "a = [[1,2,3], [4,5,6], [7,8,9]]\n",
    "print a\n",
    "print a[2][1]"
   ]
  },
  {
   "cell_type": "code",
   "execution_count": null,
   "metadata": {
    "collapsed": true
   },
   "outputs": [],
   "source": []
  }
 ],
 "metadata": {
  "kernelspec": {
   "display_name": "Python 2",
   "language": "python",
   "name": "python2"
  },
  "language_info": {
   "codemirror_mode": {
    "name": "ipython",
    "version": 2
   },
   "file_extension": ".py",
   "mimetype": "text/x-python",
   "name": "python",
   "nbconvert_exporter": "python",
   "pygments_lexer": "ipython2",
   "version": "2.7.6"
  }
 },
 "nbformat": 4,
 "nbformat_minor": 0
}
