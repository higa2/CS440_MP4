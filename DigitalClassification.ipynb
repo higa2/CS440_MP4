{
 "cells": [
  {
   "cell_type": "code",
   "execution_count": null,
   "metadata": {
    "collapsed": false
   },
   "outputs": [],
   "source": [
    "%matplotlib inline\n",
    "import random\n",
    "from images import *\n",
    "from NumberClass import *\n",
    "from math import *\n",
    "from operator import itemgetter, attrgetter\n",
    "import numpy as np\n",
    "import matplotlib.pyplot as plt\n",
    "from numpy import ma\n",
    "import pylab as pl\n",
    "from matplotlib import colors, ticker, cm\n",
    "from matplotlib.mlab import bivariate_normal"
   ]
  },
  {
   "cell_type": "code",
   "execution_count": null,
   "metadata": {
    "collapsed": false
   },
   "outputs": [],
   "source": [
    "''' Part 1: Training\n",
    "\n",
    "'''\n",
    "images = imageArray('trainingimages','traininglabels')\n",
    "#print len(images)\n",
    "numberClass = []\n",
    "labelArray = []\n",
    "x = []\n",
    "y = []\n",
    "maxIndex = 0\n",
    "for i in range(10) :\n",
    "    numberClass.append(NumberClass()) \n",
    "    labelArray.append(0)\n",
    "\n",
    "'''Adding features to the number class'''\n",
    "for i in range(5000):\n",
    "    numberValue = int(images.getLabels(i))\n",
    "    imageData = []\n",
    "    imageData = images.getImage(i)\n",
    "    numberClass[numberValue].addToCount(1)\n",
    "    for row in range(28):\n",
    "        for column in range(28): \n",
    "            if imageData[row][column] == ' ':\n",
    "                numberClass[numberValue].addToFeature(0,row,column)\n",
    "            else:\n",
    "                numberClass[numberValue].addToFeature(1,row,column)\n",
    "print ('features done')\n",
    "for i in range(5000):\n",
    "    x.append(i)\n",
    "    numberValue = int(images.getLabels(i))\n",
    "    dotArray = []\n",
    "    if numberClass[numberValue].getStatus() == 0:\n",
    "        maxIndex = numberValue\n",
    "        numberClass[numberValue].changeStatus()\n",
    "        #print maxIndex\n",
    "    else:\n",
    "        for index in range (10):\n",
    "            dotArray.append(ma.dot(numberClass[index].getWeights(), numberClass[index].getFeature()))\n",
    "        maxIndex = dotArray.index(max(dotArray))\n",
    "    #print maxIndex\n",
    "    #print ('printing '),maxIndex\n",
    "    \n",
    "    if maxIndex != numberValue:\n",
    "        for row in range(28):\n",
    "            for column in range(28): \n",
    "                  numberClass[numberValue].updateWeightVector(1,row,column)\n",
    "                  numberClass[maxIndex].updateWeightVector(-1,row,column)\n",
    "        y.append(y[len(y)-2])\n",
    "    else:\n",
    "        if len(y) <2:\n",
    "            y.append(0)\n",
    "        else:\n",
    "            y.append(1+y[len(y)-2])\n",
    "        for row in range(28):\n",
    "            for column in range(28): \n",
    "                numberClass[numberValue].updateWeightVector(1,row,column)\n",
    "\n",
    "pl.plot(x,y,'ro')\n",
    "pl.show()\n",
    "#for index in range(10):\n",
    "    #print index,(' '),numberClass[index].getWeights(), ('\\n')"
   ]
  }
 ],
 "metadata": {
  "kernelspec": {
   "display_name": "Python 2",
   "language": "python",
   "name": "python2"
  },
  "language_info": {
   "codemirror_mode": {
    "name": "ipython",
    "version": 2
   },
   "file_extension": ".py",
   "mimetype": "text/x-python",
   "name": "python",
   "nbconvert_exporter": "python",
   "pygments_lexer": "ipython2",
   "version": "2.7.10"
  }
 },
 "nbformat": 4,
 "nbformat_minor": 0
}
